{
    "cells": [
        {
            "cell_type": "markdown",
            "metadata": {},
            "source": "<p style=\"text-align:center\">\n    <a href=\"https://skills.network/?utm_medium=Exinfluencer&utm_source=Exinfluencer&utm_content=000026UJ&utm_term=10006555&utm_id=NA-SkillsNetwork-Channel-SkillsNetworkCoursesIBMDS0321ENSkillsNetwork865-2022-01-01\" target=\"_blank\">\n    <img src=\"https://cf-courses-data.s3.us.cloud-object-storage.appdomain.cloud/assets/logos/SN_web_lightmode.png\" width=\"200\" alt=\"Skills Network Logo\"  />\n    </a>\n</p>\n"
        },
        {
            "cell_type": "markdown",
            "metadata": {},
            "source": "# **SpaceX  Falcon 9 first stage Landing Prediction**\n"
        },
        {
            "cell_type": "markdown",
            "metadata": {},
            "source": "# Lab 1: Collecting the data\n"
        },
        {
            "cell_type": "markdown",
            "metadata": {},
            "source": "Estimated time needed: **45** minutes\n"
        },
        {
            "cell_type": "markdown",
            "metadata": {},
            "source": "In this capstone, we will predict if the Falcon 9 first stage will land successfully. SpaceX advertises Falcon 9 rocket launches on its website with a cost of 62 million dollars; other providers cost upward of 165 million dollars each, much of the savings is because SpaceX can reuse the first stage. Therefore if we can determine if the first stage will land, we can determine the cost of a launch. This information can be used if an alternate company wants to bid against SpaceX for a rocket launch. In this lab, you will collect and make sure the data is in the correct format from an API. The following is an example of a successful and launch.\n"
        },
        {
            "cell_type": "markdown",
            "metadata": {},
            "source": "![](https://cf-courses-data.s3.us.cloud-object-storage.appdomain.cloud/IBMDeveloperSkillsNetwork-DS0701EN-SkillsNetwork/lab_v2/images/landing_1.gif)\n"
        },
        {
            "cell_type": "markdown",
            "metadata": {},
            "source": "Several examples of an unsuccessful landing are shown here:\n"
        },
        {
            "cell_type": "markdown",
            "metadata": {},
            "source": "![](https://cf-courses-data.s3.us.cloud-object-storage.appdomain.cloud/IBMDeveloperSkillsNetwork-DS0701EN-SkillsNetwork/lab_v2/images/crash.gif)\n"
        },
        {
            "cell_type": "markdown",
            "metadata": {},
            "source": "Most unsuccessful landings are planned. Space X performs a controlled landing in the oceans. \n"
        },
        {
            "cell_type": "markdown",
            "metadata": {},
            "source": "## Objectives\n"
        },
        {
            "cell_type": "markdown",
            "metadata": {},
            "source": "In this lab, you will make a get request to the SpaceX API. You will also do some basic data wrangling and formating. \n\n- Request to the SpaceX API\n- Clean the requested data\n"
        },
        {
            "cell_type": "markdown",
            "metadata": {},
            "source": "----\n"
        },
        {
            "cell_type": "markdown",
            "metadata": {},
            "source": "## Import Libraries and Define Auxiliary Functions\n"
        },
        {
            "cell_type": "markdown",
            "metadata": {},
            "source": "We will import the following libraries into the lab\n"
        },
        {
            "cell_type": "code",
            "execution_count": 29,
            "metadata": {},
            "outputs": [],
            "source": "# Requests allows us to make HTTP requests which we will use to get data from an API\nimport requests\n# Pandas is a software library written for the Python programming language for data manipulation and analysis.\nimport pandas as pd\n# NumPy is a library for the Python programming language, adding support for large, multi-dimensional arrays and matrices, along with a large collection of high-level mathematical functions to operate on these arrays\nimport numpy as np\n# Datetime is a library that allows us to represent dates\nimport datetime\n\n# Setting this option will print all collumns of a dataframe\npd.set_option('display.max_columns', None)\n# Setting this option will print all of the data in a feature\npd.set_option('display.max_colwidth', None)"
        },
        {
            "cell_type": "markdown",
            "metadata": {},
            "source": "Below we will define a series of helper functions that will help us use the API to extract information using identification numbers in the launch data.\n\nFrom the <code>rocket</code> column we would like to learn the booster name.\n"
        },
        {
            "cell_type": "code",
            "execution_count": 30,
            "metadata": {},
            "outputs": [],
            "source": "# Takes the dataset and uses the rocket column to call the API and append the data to the list\ndef getBoosterVersion(data):\n    for x in data['rocket']:\n       if x:\n        response = requests.get(\"https://api.spacexdata.com/v4/rockets/\"+str(x)).json()\n        BoosterVersion.append(response['name'])"
        },
        {
            "cell_type": "markdown",
            "metadata": {},
            "source": "From the <code>launchpad</code> we would like to know the name of the launch site being used, the logitude, and the latitude.\n"
        },
        {
            "cell_type": "code",
            "execution_count": 31,
            "metadata": {},
            "outputs": [],
            "source": "# Takes the dataset and uses the launchpad column to call the API and append the data to the list\ndef getLaunchSite(data):\n    for x in data['launchpad']:\n       if x:\n         response = requests.get(\"https://api.spacexdata.com/v4/launchpads/\"+str(x)).json()\n         Longitude.append(response['longitude'])\n         Latitude.append(response['latitude'])\n         LaunchSite.append(response['name'])"
        },
        {
            "cell_type": "markdown",
            "metadata": {},
            "source": "From the <code>payload</code> we would like to learn the mass of the payload and the orbit that it is going to.\n"
        },
        {
            "cell_type": "code",
            "execution_count": 32,
            "metadata": {},
            "outputs": [],
            "source": "# Takes the dataset and uses the payloads column to call the API and append the data to the lists\ndef getPayloadData(data):\n    for load in data['payloads']:\n       if load:\n        response = requests.get(\"https://api.spacexdata.com/v4/payloads/\"+load).json()\n        PayloadMass.append(response['mass_kg'])\n        Orbit.append(response['orbit'])"
        },
        {
            "cell_type": "markdown",
            "metadata": {},
            "source": "From <code>cores</code> we would like to learn the outcome of the landing, the type of the landing, number of flights with that core, whether gridfins were used, wheter the core is reused, wheter legs were used, the landing pad used, the block of the core which is a number used to seperate version of cores, the number of times this specific core has been reused, and the serial of the core.\n"
        },
        {
            "cell_type": "code",
            "execution_count": 33,
            "metadata": {},
            "outputs": [],
            "source": "# Takes the dataset and uses the cores column to call the API and append the data to the lists\ndef getCoreData(data):\n    for core in data['cores']:\n            if core['core'] != None:\n                response = requests.get(\"https://api.spacexdata.com/v4/cores/\"+core['core']).json()\n                Block.append(response['block'])\n                ReusedCount.append(response['reuse_count'])\n                Serial.append(response['serial'])\n            else:\n                Block.append(None)\n                ReusedCount.append(None)\n                Serial.append(None)\n            Outcome.append(str(core['landing_success'])+' '+str(core['landing_type']))\n            Flights.append(core['flight'])\n            GridFins.append(core['gridfins'])\n            Reused.append(core['reused'])\n            Legs.append(core['legs'])\n            LandingPad.append(core['landpad'])"
        },
        {
            "cell_type": "markdown",
            "metadata": {},
            "source": "Now let's start requesting rocket launch data from SpaceX API with the following URL:\n"
        },
        {
            "cell_type": "code",
            "execution_count": 34,
            "metadata": {},
            "outputs": [],
            "source": "spacex_url=\"https://api.spacexdata.com/v4/launches/past\""
        },
        {
            "cell_type": "code",
            "execution_count": 35,
            "metadata": {},
            "outputs": [],
            "source": "response = requests.get(spacex_url)"
        },
        {
            "cell_type": "markdown",
            "metadata": {},
            "source": "Check the content of the response\n"
        },
        {
            "cell_type": "code",
            "execution_count": 36,
            "metadata": {},
            "outputs": [],
            "source": "# print(response.content)"
        },
        {
            "cell_type": "markdown",
            "metadata": {},
            "source": "You should see the response contains massive information about SpaceX launches. Next, let's try to discover some more relevant information for this project.\n"
        },
        {
            "cell_type": "markdown",
            "metadata": {},
            "source": "### Task 1: Request and parse the SpaceX launch data using the GET request\n"
        },
        {
            "cell_type": "markdown",
            "metadata": {},
            "source": "To make the requested JSON results more consistent, we will use the following static response object for this project:\n"
        },
        {
            "cell_type": "code",
            "execution_count": 37,
            "metadata": {},
            "outputs": [],
            "source": "static_json_url='https://cf-courses-data.s3.us.cloud-object-storage.appdomain.cloud/IBM-DS0321EN-SkillsNetwork/datasets/API_call_spacex_api.json'"
        },
        {
            "cell_type": "markdown",
            "metadata": {},
            "source": "We should see that the request was successfull with the 200 status response code\n"
        },
        {
            "cell_type": "code",
            "execution_count": 38,
            "metadata": {},
            "outputs": [
                {
                    "data": {
                        "text/plain": "200"
                    },
                    "execution_count": 38,
                    "metadata": {},
                    "output_type": "execute_result"
                }
            ],
            "source": "response.status_code"
        },
        {
            "cell_type": "markdown",
            "metadata": {},
            "source": "Now we decode the response content as a Json using <code>.json()</code> and turn it into a Pandas dataframe using <code>.json_normalize()</code>\n"
        },
        {
            "cell_type": "code",
            "execution_count": 39,
            "metadata": {},
            "outputs": [],
            "source": "# Use json_normalize meethod to convert the json result into a dataframe\n\ndata = pd.json_normalize(response.json())"
        },
        {
            "cell_type": "markdown",
            "metadata": {},
            "source": "Using the dataframe <code>data</code> print the first 5 rows\n"
        },
        {
            "cell_type": "code",
            "execution_count": 40,
            "metadata": {},
            "outputs": [
                {
                    "data": {
                        "text/html": "<div>\n<style scoped>\n    .dataframe tbody tr th:only-of-type {\n        vertical-align: middle;\n    }\n\n    .dataframe tbody tr th {\n        vertical-align: top;\n    }\n\n    .dataframe thead th {\n        text-align: right;\n    }\n</style>\n<table border=\"1\" class=\"dataframe\">\n  <thead>\n    <tr style=\"text-align: right;\">\n      <th></th>\n      <th>static_fire_date_utc</th>\n      <th>static_fire_date_unix</th>\n      <th>net</th>\n      <th>window</th>\n      <th>rocket</th>\n      <th>success</th>\n      <th>failures</th>\n      <th>details</th>\n      <th>crew</th>\n      <th>ships</th>\n      <th>capsules</th>\n      <th>payloads</th>\n      <th>launchpad</th>\n      <th>flight_number</th>\n      <th>name</th>\n      <th>date_utc</th>\n      <th>date_unix</th>\n      <th>date_local</th>\n      <th>date_precision</th>\n      <th>upcoming</th>\n      <th>cores</th>\n      <th>auto_update</th>\n      <th>tbd</th>\n      <th>launch_library_id</th>\n      <th>id</th>\n      <th>fairings.reused</th>\n      <th>fairings.recovery_attempt</th>\n      <th>fairings.recovered</th>\n      <th>fairings.ships</th>\n      <th>links.patch.small</th>\n      <th>links.patch.large</th>\n      <th>links.reddit.campaign</th>\n      <th>links.reddit.launch</th>\n      <th>links.reddit.media</th>\n      <th>links.reddit.recovery</th>\n      <th>links.flickr.small</th>\n      <th>links.flickr.original</th>\n      <th>links.presskit</th>\n      <th>links.webcast</th>\n      <th>links.youtube_id</th>\n      <th>links.article</th>\n      <th>links.wikipedia</th>\n      <th>fairings</th>\n    </tr>\n  </thead>\n  <tbody>\n    <tr>\n      <th>0</th>\n      <td>2006-03-17T00:00:00.000Z</td>\n      <td>1.142554e+09</td>\n      <td>False</td>\n      <td>0.0</td>\n      <td>5e9d0d95eda69955f709d1eb</td>\n      <td>False</td>\n      <td>[{'time': 33, 'altitude': None, 'reason': 'merlin engine failure'}]</td>\n      <td>Engine failure at 33 seconds and loss of vehicle</td>\n      <td>[]</td>\n      <td>[]</td>\n      <td>[]</td>\n      <td>[5eb0e4b5b6c3bb0006eeb1e1]</td>\n      <td>5e9e4502f5090995de566f86</td>\n      <td>1</td>\n      <td>FalconSat</td>\n      <td>2006-03-24T22:30:00.000Z</td>\n      <td>1143239400</td>\n      <td>2006-03-25T10:30:00+12:00</td>\n      <td>hour</td>\n      <td>False</td>\n      <td>[{'core': '5e9e289df35918033d3b2623', 'flight': 1, 'gridfins': False, 'legs': False, 'reused': False, 'landing_attempt': False, 'landing_success': None, 'landing_type': None, 'landpad': None}]</td>\n      <td>True</td>\n      <td>False</td>\n      <td>None</td>\n      <td>5eb87cd9ffd86e000604b32a</td>\n      <td>False</td>\n      <td>False</td>\n      <td>False</td>\n      <td>[]</td>\n      <td>https://images2.imgbox.com/94/f2/NN6Ph45r_o.png</td>\n      <td>https://images2.imgbox.com/5b/02/QcxHUb5V_o.png</td>\n      <td>None</td>\n      <td>None</td>\n      <td>None</td>\n      <td>None</td>\n      <td>[]</td>\n      <td>[]</td>\n      <td>None</td>\n      <td>https://www.youtube.com/watch?v=0a_00nJ_Y88</td>\n      <td>0a_00nJ_Y88</td>\n      <td>https://www.space.com/2196-spacex-inaugural-falcon-1-rocket-lost-launch.html</td>\n      <td>https://en.wikipedia.org/wiki/DemoSat</td>\n      <td>NaN</td>\n    </tr>\n    <tr>\n      <th>1</th>\n      <td>None</td>\n      <td>NaN</td>\n      <td>False</td>\n      <td>0.0</td>\n      <td>5e9d0d95eda69955f709d1eb</td>\n      <td>False</td>\n      <td>[{'time': 301, 'altitude': 289, 'reason': 'harmonic oscillation leading to premature engine shutdown'}]</td>\n      <td>Successful first stage burn and transition to second stage, maximum altitude 289 km, Premature engine shutdown at T+7 min 30 s, Failed to reach orbit, Failed to recover first stage</td>\n      <td>[]</td>\n      <td>[]</td>\n      <td>[]</td>\n      <td>[5eb0e4b6b6c3bb0006eeb1e2]</td>\n      <td>5e9e4502f5090995de566f86</td>\n      <td>2</td>\n      <td>DemoSat</td>\n      <td>2007-03-21T01:10:00.000Z</td>\n      <td>1174439400</td>\n      <td>2007-03-21T13:10:00+12:00</td>\n      <td>hour</td>\n      <td>False</td>\n      <td>[{'core': '5e9e289ef35918416a3b2624', 'flight': 1, 'gridfins': False, 'legs': False, 'reused': False, 'landing_attempt': False, 'landing_success': None, 'landing_type': None, 'landpad': None}]</td>\n      <td>True</td>\n      <td>False</td>\n      <td>None</td>\n      <td>5eb87cdaffd86e000604b32b</td>\n      <td>False</td>\n      <td>False</td>\n      <td>False</td>\n      <td>[]</td>\n      <td>https://images2.imgbox.com/f9/4a/ZboXReNb_o.png</td>\n      <td>https://images2.imgbox.com/80/a2/bkWotCIS_o.png</td>\n      <td>None</td>\n      <td>None</td>\n      <td>None</td>\n      <td>None</td>\n      <td>[]</td>\n      <td>[]</td>\n      <td>None</td>\n      <td>https://www.youtube.com/watch?v=Lk4zQ2wP-Nc</td>\n      <td>Lk4zQ2wP-Nc</td>\n      <td>https://www.space.com/3590-spacex-falcon-1-rocket-fails-reach-orbit.html</td>\n      <td>https://en.wikipedia.org/wiki/DemoSat</td>\n      <td>NaN</td>\n    </tr>\n    <tr>\n      <th>2</th>\n      <td>None</td>\n      <td>NaN</td>\n      <td>False</td>\n      <td>0.0</td>\n      <td>5e9d0d95eda69955f709d1eb</td>\n      <td>False</td>\n      <td>[{'time': 140, 'altitude': 35, 'reason': 'residual stage-1 thrust led to collision between stage 1 and stage 2'}]</td>\n      <td>Residual stage 1 thrust led to collision between stage 1 and stage 2</td>\n      <td>[]</td>\n      <td>[]</td>\n      <td>[]</td>\n      <td>[5eb0e4b6b6c3bb0006eeb1e3, 5eb0e4b6b6c3bb0006eeb1e4]</td>\n      <td>5e9e4502f5090995de566f86</td>\n      <td>3</td>\n      <td>Trailblazer</td>\n      <td>2008-08-03T03:34:00.000Z</td>\n      <td>1217734440</td>\n      <td>2008-08-03T15:34:00+12:00</td>\n      <td>hour</td>\n      <td>False</td>\n      <td>[{'core': '5e9e289ef3591814873b2625', 'flight': 1, 'gridfins': False, 'legs': False, 'reused': False, 'landing_attempt': False, 'landing_success': None, 'landing_type': None, 'landpad': None}]</td>\n      <td>True</td>\n      <td>False</td>\n      <td>None</td>\n      <td>5eb87cdbffd86e000604b32c</td>\n      <td>False</td>\n      <td>False</td>\n      <td>False</td>\n      <td>[]</td>\n      <td>https://images2.imgbox.com/6c/cb/na1tzhHs_o.png</td>\n      <td>https://images2.imgbox.com/4a/80/k1oAkY0k_o.png</td>\n      <td>None</td>\n      <td>None</td>\n      <td>None</td>\n      <td>None</td>\n      <td>[]</td>\n      <td>[]</td>\n      <td>None</td>\n      <td>https://www.youtube.com/watch?v=v0w9p3U8860</td>\n      <td>v0w9p3U8860</td>\n      <td>http://www.spacex.com/news/2013/02/11/falcon-1-flight-3-mission-summary</td>\n      <td>https://en.wikipedia.org/wiki/Trailblazer_(satellite)</td>\n      <td>NaN</td>\n    </tr>\n    <tr>\n      <th>3</th>\n      <td>2008-09-20T00:00:00.000Z</td>\n      <td>1.221869e+09</td>\n      <td>False</td>\n      <td>0.0</td>\n      <td>5e9d0d95eda69955f709d1eb</td>\n      <td>True</td>\n      <td>[]</td>\n      <td>Ratsat was carried to orbit on the first successful orbital launch of any privately funded and developed, liquid-propelled carrier rocket, the\u00a0SpaceX Falcon 1</td>\n      <td>[]</td>\n      <td>[]</td>\n      <td>[]</td>\n      <td>[5eb0e4b7b6c3bb0006eeb1e5]</td>\n      <td>5e9e4502f5090995de566f86</td>\n      <td>4</td>\n      <td>RatSat</td>\n      <td>2008-09-28T23:15:00.000Z</td>\n      <td>1222643700</td>\n      <td>2008-09-28T11:15:00+12:00</td>\n      <td>hour</td>\n      <td>False</td>\n      <td>[{'core': '5e9e289ef3591855dc3b2626', 'flight': 1, 'gridfins': False, 'legs': False, 'reused': False, 'landing_attempt': False, 'landing_success': None, 'landing_type': None, 'landpad': None}]</td>\n      <td>True</td>\n      <td>False</td>\n      <td>None</td>\n      <td>5eb87cdbffd86e000604b32d</td>\n      <td>False</td>\n      <td>False</td>\n      <td>False</td>\n      <td>[]</td>\n      <td>https://images2.imgbox.com/95/39/sRqN7rsv_o.png</td>\n      <td>https://images2.imgbox.com/a3/99/qswRYzE8_o.png</td>\n      <td>None</td>\n      <td>None</td>\n      <td>None</td>\n      <td>None</td>\n      <td>[]</td>\n      <td>[]</td>\n      <td>None</td>\n      <td>https://www.youtube.com/watch?v=dLQ2tZEH6G0</td>\n      <td>dLQ2tZEH6G0</td>\n      <td>https://en.wikipedia.org/wiki/Ratsat</td>\n      <td>https://en.wikipedia.org/wiki/Ratsat</td>\n      <td>NaN</td>\n    </tr>\n    <tr>\n      <th>4</th>\n      <td>None</td>\n      <td>NaN</td>\n      <td>False</td>\n      <td>0.0</td>\n      <td>5e9d0d95eda69955f709d1eb</td>\n      <td>True</td>\n      <td>[]</td>\n      <td>None</td>\n      <td>[]</td>\n      <td>[]</td>\n      <td>[]</td>\n      <td>[5eb0e4b7b6c3bb0006eeb1e6]</td>\n      <td>5e9e4502f5090995de566f86</td>\n      <td>5</td>\n      <td>RazakSat</td>\n      <td>2009-07-13T03:35:00.000Z</td>\n      <td>1247456100</td>\n      <td>2009-07-13T15:35:00+12:00</td>\n      <td>hour</td>\n      <td>False</td>\n      <td>[{'core': '5e9e289ef359184f103b2627', 'flight': 1, 'gridfins': False, 'legs': False, 'reused': False, 'landing_attempt': False, 'landing_success': None, 'landing_type': None, 'landpad': None}]</td>\n      <td>True</td>\n      <td>False</td>\n      <td>None</td>\n      <td>5eb87cdcffd86e000604b32e</td>\n      <td>False</td>\n      <td>False</td>\n      <td>False</td>\n      <td>[]</td>\n      <td>https://images2.imgbox.com/ab/5a/Pequxd5d_o.png</td>\n      <td>https://images2.imgbox.com/92/e4/7Cf6MLY0_o.png</td>\n      <td>None</td>\n      <td>None</td>\n      <td>None</td>\n      <td>None</td>\n      <td>[]</td>\n      <td>[]</td>\n      <td>http://www.spacex.com/press/2012/12/19/spacexs-falcon-1-successfully-delivers-razaksat-satellite-orbit</td>\n      <td>https://www.youtube.com/watch?v=yTaIDooc8Og</td>\n      <td>yTaIDooc8Og</td>\n      <td>http://www.spacex.com/news/2013/02/12/falcon-1-flight-5</td>\n      <td>https://en.wikipedia.org/wiki/RazakSAT</td>\n      <td>NaN</td>\n    </tr>\n  </tbody>\n</table>\n</div>",
                        "text/plain": "       static_fire_date_utc  static_fire_date_unix    net  window  \\\n0  2006-03-17T00:00:00.000Z           1.142554e+09  False     0.0   \n1                      None                    NaN  False     0.0   \n2                      None                    NaN  False     0.0   \n3  2008-09-20T00:00:00.000Z           1.221869e+09  False     0.0   \n4                      None                    NaN  False     0.0   \n\n                     rocket success  \\\n0  5e9d0d95eda69955f709d1eb   False   \n1  5e9d0d95eda69955f709d1eb   False   \n2  5e9d0d95eda69955f709d1eb   False   \n3  5e9d0d95eda69955f709d1eb    True   \n4  5e9d0d95eda69955f709d1eb    True   \n\n                                                                                                            failures  \\\n0                                                [{'time': 33, 'altitude': None, 'reason': 'merlin engine failure'}]   \n1            [{'time': 301, 'altitude': 289, 'reason': 'harmonic oscillation leading to premature engine shutdown'}]   \n2  [{'time': 140, 'altitude': 35, 'reason': 'residual stage-1 thrust led to collision between stage 1 and stage 2'}]   \n3                                                                                                                 []   \n4                                                                                                                 []   \n\n                                                                                                                                                                                details  \\\n0                                                                                                                                      Engine failure at 33 seconds and loss of vehicle   \n1  Successful first stage burn and transition to second stage, maximum altitude 289 km, Premature engine shutdown at T+7 min 30 s, Failed to reach orbit, Failed to recover first stage   \n2                                                                                                                  Residual stage 1 thrust led to collision between stage 1 and stage 2   \n3                        Ratsat was carried to orbit on the first successful orbital launch of any privately funded and developed, liquid-propelled carrier rocket, the\u00a0SpaceX Falcon 1   \n4                                                                                                                                                                                  None   \n\n  crew ships capsules                                              payloads  \\\n0   []    []       []                            [5eb0e4b5b6c3bb0006eeb1e1]   \n1   []    []       []                            [5eb0e4b6b6c3bb0006eeb1e2]   \n2   []    []       []  [5eb0e4b6b6c3bb0006eeb1e3, 5eb0e4b6b6c3bb0006eeb1e4]   \n3   []    []       []                            [5eb0e4b7b6c3bb0006eeb1e5]   \n4   []    []       []                            [5eb0e4b7b6c3bb0006eeb1e6]   \n\n                  launchpad  flight_number         name  \\\n0  5e9e4502f5090995de566f86              1    FalconSat   \n1  5e9e4502f5090995de566f86              2      DemoSat   \n2  5e9e4502f5090995de566f86              3  Trailblazer   \n3  5e9e4502f5090995de566f86              4       RatSat   \n4  5e9e4502f5090995de566f86              5     RazakSat   \n\n                   date_utc   date_unix                 date_local  \\\n0  2006-03-24T22:30:00.000Z  1143239400  2006-03-25T10:30:00+12:00   \n1  2007-03-21T01:10:00.000Z  1174439400  2007-03-21T13:10:00+12:00   \n2  2008-08-03T03:34:00.000Z  1217734440  2008-08-03T15:34:00+12:00   \n3  2008-09-28T23:15:00.000Z  1222643700  2008-09-28T11:15:00+12:00   \n4  2009-07-13T03:35:00.000Z  1247456100  2009-07-13T15:35:00+12:00   \n\n  date_precision  upcoming  \\\n0           hour     False   \n1           hour     False   \n2           hour     False   \n3           hour     False   \n4           hour     False   \n\n                                                                                                                                                                                              cores  \\\n0  [{'core': '5e9e289df35918033d3b2623', 'flight': 1, 'gridfins': False, 'legs': False, 'reused': False, 'landing_attempt': False, 'landing_success': None, 'landing_type': None, 'landpad': None}]   \n1  [{'core': '5e9e289ef35918416a3b2624', 'flight': 1, 'gridfins': False, 'legs': False, 'reused': False, 'landing_attempt': False, 'landing_success': None, 'landing_type': None, 'landpad': None}]   \n2  [{'core': '5e9e289ef3591814873b2625', 'flight': 1, 'gridfins': False, 'legs': False, 'reused': False, 'landing_attempt': False, 'landing_success': None, 'landing_type': None, 'landpad': None}]   \n3  [{'core': '5e9e289ef3591855dc3b2626', 'flight': 1, 'gridfins': False, 'legs': False, 'reused': False, 'landing_attempt': False, 'landing_success': None, 'landing_type': None, 'landpad': None}]   \n4  [{'core': '5e9e289ef359184f103b2627', 'flight': 1, 'gridfins': False, 'legs': False, 'reused': False, 'landing_attempt': False, 'landing_success': None, 'landing_type': None, 'landpad': None}]   \n\n   auto_update    tbd launch_library_id                        id  \\\n0         True  False              None  5eb87cd9ffd86e000604b32a   \n1         True  False              None  5eb87cdaffd86e000604b32b   \n2         True  False              None  5eb87cdbffd86e000604b32c   \n3         True  False              None  5eb87cdbffd86e000604b32d   \n4         True  False              None  5eb87cdcffd86e000604b32e   \n\n  fairings.reused fairings.recovery_attempt fairings.recovered fairings.ships  \\\n0           False                     False              False             []   \n1           False                     False              False             []   \n2           False                     False              False             []   \n3           False                     False              False             []   \n4           False                     False              False             []   \n\n                                 links.patch.small  \\\n0  https://images2.imgbox.com/94/f2/NN6Ph45r_o.png   \n1  https://images2.imgbox.com/f9/4a/ZboXReNb_o.png   \n2  https://images2.imgbox.com/6c/cb/na1tzhHs_o.png   \n3  https://images2.imgbox.com/95/39/sRqN7rsv_o.png   \n4  https://images2.imgbox.com/ab/5a/Pequxd5d_o.png   \n\n                                 links.patch.large links.reddit.campaign  \\\n0  https://images2.imgbox.com/5b/02/QcxHUb5V_o.png                  None   \n1  https://images2.imgbox.com/80/a2/bkWotCIS_o.png                  None   \n2  https://images2.imgbox.com/4a/80/k1oAkY0k_o.png                  None   \n3  https://images2.imgbox.com/a3/99/qswRYzE8_o.png                  None   \n4  https://images2.imgbox.com/92/e4/7Cf6MLY0_o.png                  None   \n\n  links.reddit.launch links.reddit.media links.reddit.recovery  \\\n0                None               None                  None   \n1                None               None                  None   \n2                None               None                  None   \n3                None               None                  None   \n4                None               None                  None   \n\n  links.flickr.small links.flickr.original  \\\n0                 []                    []   \n1                 []                    []   \n2                 []                    []   \n3                 []                    []   \n4                 []                    []   \n\n                                                                                           links.presskit  \\\n0                                                                                                    None   \n1                                                                                                    None   \n2                                                                                                    None   \n3                                                                                                    None   \n4  http://www.spacex.com/press/2012/12/19/spacexs-falcon-1-successfully-delivers-razaksat-satellite-orbit   \n\n                                 links.webcast links.youtube_id  \\\n0  https://www.youtube.com/watch?v=0a_00nJ_Y88      0a_00nJ_Y88   \n1  https://www.youtube.com/watch?v=Lk4zQ2wP-Nc      Lk4zQ2wP-Nc   \n2  https://www.youtube.com/watch?v=v0w9p3U8860      v0w9p3U8860   \n3  https://www.youtube.com/watch?v=dLQ2tZEH6G0      dLQ2tZEH6G0   \n4  https://www.youtube.com/watch?v=yTaIDooc8Og      yTaIDooc8Og   \n\n                                                                  links.article  \\\n0  https://www.space.com/2196-spacex-inaugural-falcon-1-rocket-lost-launch.html   \n1      https://www.space.com/3590-spacex-falcon-1-rocket-fails-reach-orbit.html   \n2       http://www.spacex.com/news/2013/02/11/falcon-1-flight-3-mission-summary   \n3                                          https://en.wikipedia.org/wiki/Ratsat   \n4                       http://www.spacex.com/news/2013/02/12/falcon-1-flight-5   \n\n                                         links.wikipedia  fairings  \n0                  https://en.wikipedia.org/wiki/DemoSat       NaN  \n1                  https://en.wikipedia.org/wiki/DemoSat       NaN  \n2  https://en.wikipedia.org/wiki/Trailblazer_(satellite)       NaN  \n3                   https://en.wikipedia.org/wiki/Ratsat       NaN  \n4                 https://en.wikipedia.org/wiki/RazakSAT       NaN  "
                    },
                    "execution_count": 40,
                    "metadata": {},
                    "output_type": "execute_result"
                }
            ],
            "source": "# Get the head of the dataframe\n\ndata.head()"
        },
        {
            "cell_type": "markdown",
            "metadata": {},
            "source": "You will notice that a lot of the data are IDs. For example the rocket column has no information about the rocket just an identification number.\n\nWe will now use the API again to get information about the launches using the IDs given for each launch. Specifically we will be using columns <code>rocket</code>, <code>payloads</code>, <code>launchpad</code>, and <code>cores</code>.\n"
        },
        {
            "cell_type": "code",
            "execution_count": 41,
            "metadata": {},
            "outputs": [],
            "source": "# Lets take a subset of our dataframe keeping only the features we want and the flight number, and date_utc.\ndata = data[['rocket', 'payloads', 'launchpad', 'cores', 'flight_number', 'date_utc']]\n\n# We will remove rows with multiple cores because those are falcon rockets with 2 extra rocket boosters and rows that have multiple payloads in a single rocket.\ndata = data[data['cores'].map(len)==1]\ndata = data[data['payloads'].map(len)==1]\n\n# Since payloads and cores are lists of size 1 we will also extract the single value in the list and replace the feature.\ndata['cores'] = data['cores'].map(lambda x : x[0])\ndata['payloads'] = data['payloads'].map(lambda x : x[0])\n\n# We also want to convert the date_utc to a datetime datatype and then extracting the date leaving the time\ndata['date'] = pd.to_datetime(data['date_utc']).dt.date\n\n# Using the date we will restrict the dates of the launches\ndata = data[data['date'] <= datetime.date(2020, 11, 13)]"
        },
        {
            "cell_type": "markdown",
            "metadata": {},
            "source": "* From the <code>rocket</code> we would like to learn the booster name\n\n* From the <code>payload</code> we would like to learn the mass of the payload and the orbit that it is going to\n\n* From the <code>launchpad</code> we would like to know the name of the launch site being used, the longitude, and the latitude.\n\n* From <code>cores</code> we would like to learn the outcome of the landing, the type of the landing, number of flights with that core, whether gridfins were used, whether the core is reused, whether legs were used, the landing pad used, the block of the core which is a number used to seperate version of cores, the number of times this specific core has been reused, and the serial of the core.\n\nThe data from these requests will be stored in lists and will be used to create a new dataframe.\n"
        },
        {
            "cell_type": "code",
            "execution_count": 42,
            "metadata": {},
            "outputs": [],
            "source": "#Global variables \nBoosterVersion = []\nPayloadMass = []\nOrbit = []\nLaunchSite = []\nOutcome = []\nFlights = []\nGridFins = []\nReused = []\nLegs = []\nLandingPad = []\nBlock = []\nReusedCount = []\nSerial = []\nLongitude = []\nLatitude = []"
        },
        {
            "cell_type": "markdown",
            "metadata": {},
            "source": "These functions will apply the outputs globally to the above variables. Let's take a looks at <code>BoosterVersion</code> variable. Before we apply  <code>getBoosterVersion</code> the list is empty:\n"
        },
        {
            "cell_type": "code",
            "execution_count": 43,
            "metadata": {},
            "outputs": [
                {
                    "data": {
                        "text/plain": "[]"
                    },
                    "execution_count": 43,
                    "metadata": {},
                    "output_type": "execute_result"
                }
            ],
            "source": "BoosterVersion"
        },
        {
            "cell_type": "markdown",
            "metadata": {},
            "source": "Now, let's apply <code> getBoosterVersion</code> function method to get the booster version\n"
        },
        {
            "cell_type": "code",
            "execution_count": 44,
            "metadata": {},
            "outputs": [],
            "source": "# Call getBoosterVersion\ngetBoosterVersion(data)"
        },
        {
            "cell_type": "markdown",
            "metadata": {},
            "source": "the list has now been update \n"
        },
        {
            "cell_type": "code",
            "execution_count": 45,
            "metadata": {},
            "outputs": [
                {
                    "data": {
                        "text/plain": "['Falcon 1', 'Falcon 1', 'Falcon 1', 'Falcon 1', 'Falcon 9']"
                    },
                    "execution_count": 45,
                    "metadata": {},
                    "output_type": "execute_result"
                }
            ],
            "source": "BoosterVersion[0:5]"
        },
        {
            "cell_type": "markdown",
            "metadata": {},
            "source": "we can apply the rest of the  functions here:\n"
        },
        {
            "cell_type": "code",
            "execution_count": 46,
            "metadata": {},
            "outputs": [],
            "source": "# Call getLaunchSite\ngetLaunchSite(data)"
        },
        {
            "cell_type": "code",
            "execution_count": 47,
            "metadata": {},
            "outputs": [],
            "source": "# Call getPayloadData\ngetPayloadData(data)"
        },
        {
            "cell_type": "code",
            "execution_count": 48,
            "metadata": {},
            "outputs": [],
            "source": "# Call getCoreData\ngetCoreData(data)"
        },
        {
            "cell_type": "markdown",
            "metadata": {},
            "source": "Finally lets construct our dataset using the data we have obtained. We we combine the columns into a dictionary.\n"
        },
        {
            "cell_type": "code",
            "execution_count": 49,
            "metadata": {},
            "outputs": [],
            "source": "launch_dict = {'FlightNumber': list(data['flight_number']),\n'Date': list(data['date']),\n'BoosterVersion':BoosterVersion,\n'PayloadMass':PayloadMass,\n'Orbit':Orbit,\n'LaunchSite':LaunchSite,\n'Outcome':Outcome,\n'Flights':Flights,\n'GridFins':GridFins,\n'Reused':Reused,\n'Legs':Legs,\n'LandingPad':LandingPad,\n'Block':Block,\n'ReusedCount':ReusedCount,\n'Serial':Serial,\n'Longitude': Longitude,\n'Latitude': Latitude}\n"
        },
        {
            "cell_type": "markdown",
            "metadata": {},
            "source": "Then, we need to create a Pandas data frame from the dictionary launch_dict.\n"
        },
        {
            "cell_type": "code",
            "execution_count": 50,
            "metadata": {},
            "outputs": [],
            "source": "# Create a data from launch_dict\ndf = pd.DataFrame(data=launch_dict)"
        },
        {
            "cell_type": "markdown",
            "metadata": {},
            "source": "Show the summary of the dataframe\n"
        },
        {
            "cell_type": "code",
            "execution_count": 51,
            "metadata": {},
            "outputs": [
                {
                    "data": {
                        "text/html": "<div>\n<style scoped>\n    .dataframe tbody tr th:only-of-type {\n        vertical-align: middle;\n    }\n\n    .dataframe tbody tr th {\n        vertical-align: top;\n    }\n\n    .dataframe thead th {\n        text-align: right;\n    }\n</style>\n<table border=\"1\" class=\"dataframe\">\n  <thead>\n    <tr style=\"text-align: right;\">\n      <th></th>\n      <th>FlightNumber</th>\n      <th>Date</th>\n      <th>BoosterVersion</th>\n      <th>PayloadMass</th>\n      <th>Orbit</th>\n      <th>LaunchSite</th>\n      <th>Outcome</th>\n      <th>Flights</th>\n      <th>GridFins</th>\n      <th>Reused</th>\n      <th>Legs</th>\n      <th>LandingPad</th>\n      <th>Block</th>\n      <th>ReusedCount</th>\n      <th>Serial</th>\n      <th>Longitude</th>\n      <th>Latitude</th>\n    </tr>\n  </thead>\n  <tbody>\n    <tr>\n      <th>0</th>\n      <td>1</td>\n      <td>2006-03-24</td>\n      <td>Falcon 1</td>\n      <td>20.0</td>\n      <td>LEO</td>\n      <td>Kwajalein Atoll</td>\n      <td>None None</td>\n      <td>1</td>\n      <td>False</td>\n      <td>False</td>\n      <td>False</td>\n      <td>None</td>\n      <td>NaN</td>\n      <td>0</td>\n      <td>Merlin1A</td>\n      <td>167.743129</td>\n      <td>9.047721</td>\n    </tr>\n    <tr>\n      <th>1</th>\n      <td>2</td>\n      <td>2007-03-21</td>\n      <td>Falcon 1</td>\n      <td>NaN</td>\n      <td>LEO</td>\n      <td>Kwajalein Atoll</td>\n      <td>None None</td>\n      <td>1</td>\n      <td>False</td>\n      <td>False</td>\n      <td>False</td>\n      <td>None</td>\n      <td>NaN</td>\n      <td>0</td>\n      <td>Merlin2A</td>\n      <td>167.743129</td>\n      <td>9.047721</td>\n    </tr>\n    <tr>\n      <th>2</th>\n      <td>4</td>\n      <td>2008-09-28</td>\n      <td>Falcon 1</td>\n      <td>165.0</td>\n      <td>LEO</td>\n      <td>Kwajalein Atoll</td>\n      <td>None None</td>\n      <td>1</td>\n      <td>False</td>\n      <td>False</td>\n      <td>False</td>\n      <td>None</td>\n      <td>NaN</td>\n      <td>0</td>\n      <td>Merlin2C</td>\n      <td>167.743129</td>\n      <td>9.047721</td>\n    </tr>\n    <tr>\n      <th>3</th>\n      <td>5</td>\n      <td>2009-07-13</td>\n      <td>Falcon 1</td>\n      <td>200.0</td>\n      <td>LEO</td>\n      <td>Kwajalein Atoll</td>\n      <td>None None</td>\n      <td>1</td>\n      <td>False</td>\n      <td>False</td>\n      <td>False</td>\n      <td>None</td>\n      <td>NaN</td>\n      <td>0</td>\n      <td>Merlin3C</td>\n      <td>167.743129</td>\n      <td>9.047721</td>\n    </tr>\n    <tr>\n      <th>4</th>\n      <td>6</td>\n      <td>2010-06-04</td>\n      <td>Falcon 9</td>\n      <td>NaN</td>\n      <td>LEO</td>\n      <td>CCSFS SLC 40</td>\n      <td>None None</td>\n      <td>1</td>\n      <td>False</td>\n      <td>False</td>\n      <td>False</td>\n      <td>None</td>\n      <td>1.0</td>\n      <td>0</td>\n      <td>B0003</td>\n      <td>-80.577366</td>\n      <td>28.561857</td>\n    </tr>\n  </tbody>\n</table>\n</div>",
                        "text/plain": "   FlightNumber        Date BoosterVersion  PayloadMass Orbit  \\\n0             1  2006-03-24       Falcon 1         20.0   LEO   \n1             2  2007-03-21       Falcon 1          NaN   LEO   \n2             4  2008-09-28       Falcon 1        165.0   LEO   \n3             5  2009-07-13       Falcon 1        200.0   LEO   \n4             6  2010-06-04       Falcon 9          NaN   LEO   \n\n        LaunchSite    Outcome  Flights  GridFins  Reused   Legs LandingPad  \\\n0  Kwajalein Atoll  None None        1     False   False  False       None   \n1  Kwajalein Atoll  None None        1     False   False  False       None   \n2  Kwajalein Atoll  None None        1     False   False  False       None   \n3  Kwajalein Atoll  None None        1     False   False  False       None   \n4     CCSFS SLC 40  None None        1     False   False  False       None   \n\n   Block  ReusedCount    Serial   Longitude   Latitude  \n0    NaN            0  Merlin1A  167.743129   9.047721  \n1    NaN            0  Merlin2A  167.743129   9.047721  \n2    NaN            0  Merlin2C  167.743129   9.047721  \n3    NaN            0  Merlin3C  167.743129   9.047721  \n4    1.0            0     B0003  -80.577366  28.561857  "
                    },
                    "execution_count": 51,
                    "metadata": {},
                    "output_type": "execute_result"
                }
            ],
            "source": "# Show the head of the dataframe\n\ndf.head()"
        },
        {
            "cell_type": "markdown",
            "metadata": {},
            "source": "### Task 2: Filter the dataframe to only include `Falcon 9` launches\n"
        },
        {
            "cell_type": "markdown",
            "metadata": {},
            "source": "Finally we will remove the Falcon 1 launches keeping only the Falcon 9 launches. Filter the data dataframe using the <code>BoosterVersion</code> column to only keep the Falcon 9 launches. Save the filtered data to a new dataframe called <code>data_falcon9</code>.\n"
        },
        {
            "cell_type": "code",
            "execution_count": 52,
            "metadata": {},
            "outputs": [
                {
                    "data": {
                        "text/html": "<div>\n<style scoped>\n    .dataframe tbody tr th:only-of-type {\n        vertical-align: middle;\n    }\n\n    .dataframe tbody tr th {\n        vertical-align: top;\n    }\n\n    .dataframe thead th {\n        text-align: right;\n    }\n</style>\n<table border=\"1\" class=\"dataframe\">\n  <thead>\n    <tr style=\"text-align: right;\">\n      <th></th>\n      <th>FlightNumber</th>\n      <th>Date</th>\n      <th>BoosterVersion</th>\n      <th>PayloadMass</th>\n      <th>Orbit</th>\n      <th>LaunchSite</th>\n      <th>Outcome</th>\n      <th>Flights</th>\n      <th>GridFins</th>\n      <th>Reused</th>\n      <th>Legs</th>\n      <th>LandingPad</th>\n      <th>Block</th>\n      <th>ReusedCount</th>\n      <th>Serial</th>\n      <th>Longitude</th>\n      <th>Latitude</th>\n    </tr>\n  </thead>\n  <tbody>\n    <tr>\n      <th>4</th>\n      <td>6</td>\n      <td>2010-06-04</td>\n      <td>Falcon 9</td>\n      <td>NaN</td>\n      <td>LEO</td>\n      <td>CCSFS SLC 40</td>\n      <td>None None</td>\n      <td>1</td>\n      <td>False</td>\n      <td>False</td>\n      <td>False</td>\n      <td>None</td>\n      <td>1.0</td>\n      <td>0</td>\n      <td>B0003</td>\n      <td>-80.577366</td>\n      <td>28.561857</td>\n    </tr>\n    <tr>\n      <th>5</th>\n      <td>8</td>\n      <td>2012-05-22</td>\n      <td>Falcon 9</td>\n      <td>525.0</td>\n      <td>LEO</td>\n      <td>CCSFS SLC 40</td>\n      <td>None None</td>\n      <td>1</td>\n      <td>False</td>\n      <td>False</td>\n      <td>False</td>\n      <td>None</td>\n      <td>1.0</td>\n      <td>0</td>\n      <td>B0005</td>\n      <td>-80.577366</td>\n      <td>28.561857</td>\n    </tr>\n    <tr>\n      <th>6</th>\n      <td>10</td>\n      <td>2013-03-01</td>\n      <td>Falcon 9</td>\n      <td>677.0</td>\n      <td>ISS</td>\n      <td>CCSFS SLC 40</td>\n      <td>None None</td>\n      <td>1</td>\n      <td>False</td>\n      <td>False</td>\n      <td>False</td>\n      <td>None</td>\n      <td>1.0</td>\n      <td>0</td>\n      <td>B0007</td>\n      <td>-80.577366</td>\n      <td>28.561857</td>\n    </tr>\n    <tr>\n      <th>7</th>\n      <td>11</td>\n      <td>2013-09-29</td>\n      <td>Falcon 9</td>\n      <td>500.0</td>\n      <td>PO</td>\n      <td>VAFB SLC 4E</td>\n      <td>False Ocean</td>\n      <td>1</td>\n      <td>False</td>\n      <td>False</td>\n      <td>False</td>\n      <td>None</td>\n      <td>1.0</td>\n      <td>0</td>\n      <td>B1003</td>\n      <td>-120.610829</td>\n      <td>34.632093</td>\n    </tr>\n    <tr>\n      <th>8</th>\n      <td>12</td>\n      <td>2013-12-03</td>\n      <td>Falcon 9</td>\n      <td>3170.0</td>\n      <td>GTO</td>\n      <td>CCSFS SLC 40</td>\n      <td>None None</td>\n      <td>1</td>\n      <td>False</td>\n      <td>False</td>\n      <td>False</td>\n      <td>None</td>\n      <td>1.0</td>\n      <td>0</td>\n      <td>B1004</td>\n      <td>-80.577366</td>\n      <td>28.561857</td>\n    </tr>\n  </tbody>\n</table>\n</div>",
                        "text/plain": "   FlightNumber        Date BoosterVersion  PayloadMass Orbit    LaunchSite  \\\n4             6  2010-06-04       Falcon 9          NaN   LEO  CCSFS SLC 40   \n5             8  2012-05-22       Falcon 9        525.0   LEO  CCSFS SLC 40   \n6            10  2013-03-01       Falcon 9        677.0   ISS  CCSFS SLC 40   \n7            11  2013-09-29       Falcon 9        500.0    PO   VAFB SLC 4E   \n8            12  2013-12-03       Falcon 9       3170.0   GTO  CCSFS SLC 40   \n\n       Outcome  Flights  GridFins  Reused   Legs LandingPad  Block  \\\n4    None None        1     False   False  False       None    1.0   \n5    None None        1     False   False  False       None    1.0   \n6    None None        1     False   False  False       None    1.0   \n7  False Ocean        1     False   False  False       None    1.0   \n8    None None        1     False   False  False       None    1.0   \n\n   ReusedCount Serial   Longitude   Latitude  \n4            0  B0003  -80.577366  28.561857  \n5            0  B0005  -80.577366  28.561857  \n6            0  B0007  -80.577366  28.561857  \n7            0  B1003 -120.610829  34.632093  \n8            0  B1004  -80.577366  28.561857  "
                    },
                    "execution_count": 52,
                    "metadata": {},
                    "output_type": "execute_result"
                }
            ],
            "source": "# Hint data['BoosterVersion']!='Falcon 1'\n\ndata_falcon9 = df.loc[df['BoosterVersion'] != 'Falcon 1']\ndata_falcon9.head()"
        },
        {
            "cell_type": "markdown",
            "metadata": {},
            "source": "Now that we have removed some values we should reset the FlgihtNumber column\n"
        },
        {
            "cell_type": "code",
            "execution_count": 53,
            "metadata": {},
            "outputs": [
                {
                    "name": "stderr",
                    "output_type": "stream",
                    "text": "/tmp/wsuser/ipykernel_486/4023201451.py:1: SettingWithCopyWarning: \nA value is trying to be set on a copy of a slice from a DataFrame.\nTry using .loc[row_indexer,col_indexer] = value instead\n\nSee the caveats in the documentation: https://pandas.pydata.org/pandas-docs/stable/user_guide/indexing.html#returning-a-view-versus-a-copy\n  data_falcon9.loc[:,'FlightNumber'] = list(range(1, data_falcon9.shape[0]+1))\n"
                },
                {
                    "data": {
                        "text/html": "<div>\n<style scoped>\n    .dataframe tbody tr th:only-of-type {\n        vertical-align: middle;\n    }\n\n    .dataframe tbody tr th {\n        vertical-align: top;\n    }\n\n    .dataframe thead th {\n        text-align: right;\n    }\n</style>\n<table border=\"1\" class=\"dataframe\">\n  <thead>\n    <tr style=\"text-align: right;\">\n      <th></th>\n      <th>FlightNumber</th>\n      <th>Date</th>\n      <th>BoosterVersion</th>\n      <th>PayloadMass</th>\n      <th>Orbit</th>\n      <th>LaunchSite</th>\n      <th>Outcome</th>\n      <th>Flights</th>\n      <th>GridFins</th>\n      <th>Reused</th>\n      <th>Legs</th>\n      <th>LandingPad</th>\n      <th>Block</th>\n      <th>ReusedCount</th>\n      <th>Serial</th>\n      <th>Longitude</th>\n      <th>Latitude</th>\n    </tr>\n  </thead>\n  <tbody>\n    <tr>\n      <th>4</th>\n      <td>1</td>\n      <td>2010-06-04</td>\n      <td>Falcon 9</td>\n      <td>NaN</td>\n      <td>LEO</td>\n      <td>CCSFS SLC 40</td>\n      <td>None None</td>\n      <td>1</td>\n      <td>False</td>\n      <td>False</td>\n      <td>False</td>\n      <td>None</td>\n      <td>1.0</td>\n      <td>0</td>\n      <td>B0003</td>\n      <td>-80.577366</td>\n      <td>28.561857</td>\n    </tr>\n    <tr>\n      <th>5</th>\n      <td>2</td>\n      <td>2012-05-22</td>\n      <td>Falcon 9</td>\n      <td>525.0</td>\n      <td>LEO</td>\n      <td>CCSFS SLC 40</td>\n      <td>None None</td>\n      <td>1</td>\n      <td>False</td>\n      <td>False</td>\n      <td>False</td>\n      <td>None</td>\n      <td>1.0</td>\n      <td>0</td>\n      <td>B0005</td>\n      <td>-80.577366</td>\n      <td>28.561857</td>\n    </tr>\n    <tr>\n      <th>6</th>\n      <td>3</td>\n      <td>2013-03-01</td>\n      <td>Falcon 9</td>\n      <td>677.0</td>\n      <td>ISS</td>\n      <td>CCSFS SLC 40</td>\n      <td>None None</td>\n      <td>1</td>\n      <td>False</td>\n      <td>False</td>\n      <td>False</td>\n      <td>None</td>\n      <td>1.0</td>\n      <td>0</td>\n      <td>B0007</td>\n      <td>-80.577366</td>\n      <td>28.561857</td>\n    </tr>\n    <tr>\n      <th>7</th>\n      <td>4</td>\n      <td>2013-09-29</td>\n      <td>Falcon 9</td>\n      <td>500.0</td>\n      <td>PO</td>\n      <td>VAFB SLC 4E</td>\n      <td>False Ocean</td>\n      <td>1</td>\n      <td>False</td>\n      <td>False</td>\n      <td>False</td>\n      <td>None</td>\n      <td>1.0</td>\n      <td>0</td>\n      <td>B1003</td>\n      <td>-120.610829</td>\n      <td>34.632093</td>\n    </tr>\n    <tr>\n      <th>8</th>\n      <td>5</td>\n      <td>2013-12-03</td>\n      <td>Falcon 9</td>\n      <td>3170.0</td>\n      <td>GTO</td>\n      <td>CCSFS SLC 40</td>\n      <td>None None</td>\n      <td>1</td>\n      <td>False</td>\n      <td>False</td>\n      <td>False</td>\n      <td>None</td>\n      <td>1.0</td>\n      <td>0</td>\n      <td>B1004</td>\n      <td>-80.577366</td>\n      <td>28.561857</td>\n    </tr>\n    <tr>\n      <th>...</th>\n      <td>...</td>\n      <td>...</td>\n      <td>...</td>\n      <td>...</td>\n      <td>...</td>\n      <td>...</td>\n      <td>...</td>\n      <td>...</td>\n      <td>...</td>\n      <td>...</td>\n      <td>...</td>\n      <td>...</td>\n      <td>...</td>\n      <td>...</td>\n      <td>...</td>\n      <td>...</td>\n      <td>...</td>\n    </tr>\n    <tr>\n      <th>89</th>\n      <td>86</td>\n      <td>2020-09-03</td>\n      <td>Falcon 9</td>\n      <td>15600.0</td>\n      <td>VLEO</td>\n      <td>KSC LC 39A</td>\n      <td>True ASDS</td>\n      <td>2</td>\n      <td>True</td>\n      <td>True</td>\n      <td>True</td>\n      <td>5e9e3032383ecb6bb234e7ca</td>\n      <td>5.0</td>\n      <td>12</td>\n      <td>B1060</td>\n      <td>-80.603956</td>\n      <td>28.608058</td>\n    </tr>\n    <tr>\n      <th>90</th>\n      <td>87</td>\n      <td>2020-10-06</td>\n      <td>Falcon 9</td>\n      <td>15600.0</td>\n      <td>VLEO</td>\n      <td>KSC LC 39A</td>\n      <td>True ASDS</td>\n      <td>3</td>\n      <td>True</td>\n      <td>True</td>\n      <td>True</td>\n      <td>5e9e3032383ecb6bb234e7ca</td>\n      <td>5.0</td>\n      <td>13</td>\n      <td>B1058</td>\n      <td>-80.603956</td>\n      <td>28.608058</td>\n    </tr>\n    <tr>\n      <th>91</th>\n      <td>88</td>\n      <td>2020-10-18</td>\n      <td>Falcon 9</td>\n      <td>15600.0</td>\n      <td>VLEO</td>\n      <td>KSC LC 39A</td>\n      <td>True ASDS</td>\n      <td>6</td>\n      <td>True</td>\n      <td>True</td>\n      <td>True</td>\n      <td>5e9e3032383ecb6bb234e7ca</td>\n      <td>5.0</td>\n      <td>12</td>\n      <td>B1051</td>\n      <td>-80.603956</td>\n      <td>28.608058</td>\n    </tr>\n    <tr>\n      <th>92</th>\n      <td>89</td>\n      <td>2020-10-24</td>\n      <td>Falcon 9</td>\n      <td>15600.0</td>\n      <td>VLEO</td>\n      <td>CCSFS SLC 40</td>\n      <td>True ASDS</td>\n      <td>3</td>\n      <td>True</td>\n      <td>True</td>\n      <td>True</td>\n      <td>5e9e3033383ecbb9e534e7cc</td>\n      <td>5.0</td>\n      <td>12</td>\n      <td>B1060</td>\n      <td>-80.577366</td>\n      <td>28.561857</td>\n    </tr>\n    <tr>\n      <th>93</th>\n      <td>90</td>\n      <td>2020-11-05</td>\n      <td>Falcon 9</td>\n      <td>3681.0</td>\n      <td>MEO</td>\n      <td>CCSFS SLC 40</td>\n      <td>True ASDS</td>\n      <td>1</td>\n      <td>True</td>\n      <td>False</td>\n      <td>True</td>\n      <td>5e9e3032383ecb6bb234e7ca</td>\n      <td>5.0</td>\n      <td>8</td>\n      <td>B1062</td>\n      <td>-80.577366</td>\n      <td>28.561857</td>\n    </tr>\n  </tbody>\n</table>\n<p>90 rows \u00d7 17 columns</p>\n</div>",
                        "text/plain": "    FlightNumber        Date BoosterVersion  PayloadMass Orbit    LaunchSite  \\\n4              1  2010-06-04       Falcon 9          NaN   LEO  CCSFS SLC 40   \n5              2  2012-05-22       Falcon 9        525.0   LEO  CCSFS SLC 40   \n6              3  2013-03-01       Falcon 9        677.0   ISS  CCSFS SLC 40   \n7              4  2013-09-29       Falcon 9        500.0    PO   VAFB SLC 4E   \n8              5  2013-12-03       Falcon 9       3170.0   GTO  CCSFS SLC 40   \n..           ...         ...            ...          ...   ...           ...   \n89            86  2020-09-03       Falcon 9      15600.0  VLEO    KSC LC 39A   \n90            87  2020-10-06       Falcon 9      15600.0  VLEO    KSC LC 39A   \n91            88  2020-10-18       Falcon 9      15600.0  VLEO    KSC LC 39A   \n92            89  2020-10-24       Falcon 9      15600.0  VLEO  CCSFS SLC 40   \n93            90  2020-11-05       Falcon 9       3681.0   MEO  CCSFS SLC 40   \n\n        Outcome  Flights  GridFins  Reused   Legs                LandingPad  \\\n4     None None        1     False   False  False                      None   \n5     None None        1     False   False  False                      None   \n6     None None        1     False   False  False                      None   \n7   False Ocean        1     False   False  False                      None   \n8     None None        1     False   False  False                      None   \n..          ...      ...       ...     ...    ...                       ...   \n89    True ASDS        2      True    True   True  5e9e3032383ecb6bb234e7ca   \n90    True ASDS        3      True    True   True  5e9e3032383ecb6bb234e7ca   \n91    True ASDS        6      True    True   True  5e9e3032383ecb6bb234e7ca   \n92    True ASDS        3      True    True   True  5e9e3033383ecbb9e534e7cc   \n93    True ASDS        1      True   False   True  5e9e3032383ecb6bb234e7ca   \n\n    Block  ReusedCount Serial   Longitude   Latitude  \n4     1.0            0  B0003  -80.577366  28.561857  \n5     1.0            0  B0005  -80.577366  28.561857  \n6     1.0            0  B0007  -80.577366  28.561857  \n7     1.0            0  B1003 -120.610829  34.632093  \n8     1.0            0  B1004  -80.577366  28.561857  \n..    ...          ...    ...         ...        ...  \n89    5.0           12  B1060  -80.603956  28.608058  \n90    5.0           13  B1058  -80.603956  28.608058  \n91    5.0           12  B1051  -80.603956  28.608058  \n92    5.0           12  B1060  -80.577366  28.561857  \n93    5.0            8  B1062  -80.577366  28.561857  \n\n[90 rows x 17 columns]"
                    },
                    "execution_count": 53,
                    "metadata": {},
                    "output_type": "execute_result"
                }
            ],
            "source": "data_falcon9.loc[:,'FlightNumber'] = list(range(1, data_falcon9.shape[0]+1))\ndata_falcon9"
        },
        {
            "cell_type": "markdown",
            "metadata": {},
            "source": "## Data Wrangling\n"
        },
        {
            "cell_type": "markdown",
            "metadata": {},
            "source": "We can see below that some of the rows are missing values in our dataset.\n"
        },
        {
            "cell_type": "code",
            "execution_count": 54,
            "metadata": {},
            "outputs": [
                {
                    "data": {
                        "text/plain": "FlightNumber       0\nDate               0\nBoosterVersion     0\nPayloadMass        5\nOrbit              0\nLaunchSite         0\nOutcome            0\nFlights            0\nGridFins           0\nReused             0\nLegs               0\nLandingPad        26\nBlock              0\nReusedCount        0\nSerial             0\nLongitude          0\nLatitude           0\ndtype: int64"
                    },
                    "execution_count": 54,
                    "metadata": {},
                    "output_type": "execute_result"
                }
            ],
            "source": "data_falcon9.isnull().sum()"
        },
        {
            "cell_type": "markdown",
            "metadata": {},
            "source": "Before we can continue we must deal with these missing values. The <code>LandingPad</code> column will retain None values to represent when landing pads were not used.\n"
        },
        {
            "cell_type": "markdown",
            "metadata": {},
            "source": "### Task 3: Dealing with Missing Values\n"
        },
        {
            "cell_type": "markdown",
            "metadata": {},
            "source": "Calculate below the mean for the <code>PayloadMass</code> using the <code>.mean()</code>. Then use the mean and the <code>.replace()</code> function to replace `np.nan` values in the data with the mean you calculated.\n"
        },
        {
            "cell_type": "code",
            "execution_count": 55,
            "metadata": {},
            "outputs": [
                {
                    "name": "stdout",
                    "output_type": "stream",
                    "text": "6123.547647058824\n"
                },
                {
                    "name": "stderr",
                    "output_type": "stream",
                    "text": "/tmp/wsuser/ipykernel_486/2123157456.py:8: SettingWithCopyWarning: \nA value is trying to be set on a copy of a slice from a DataFrame.\nTry using .loc[row_indexer,col_indexer] = value instead\n\nSee the caveats in the documentation: https://pandas.pydata.org/pandas-docs/stable/user_guide/indexing.html#returning-a-view-versus-a-copy\n  data_falcon9['PayloadMass'] = data_falcon9['PayloadMass'].replace(np.nan, mean)\n"
                },
                {
                    "data": {
                        "text/html": "<div>\n<style scoped>\n    .dataframe tbody tr th:only-of-type {\n        vertical-align: middle;\n    }\n\n    .dataframe tbody tr th {\n        vertical-align: top;\n    }\n\n    .dataframe thead th {\n        text-align: right;\n    }\n</style>\n<table border=\"1\" class=\"dataframe\">\n  <thead>\n    <tr style=\"text-align: right;\">\n      <th></th>\n      <th>FlightNumber</th>\n      <th>Date</th>\n      <th>BoosterVersion</th>\n      <th>PayloadMass</th>\n      <th>Orbit</th>\n      <th>LaunchSite</th>\n      <th>Outcome</th>\n      <th>Flights</th>\n      <th>GridFins</th>\n      <th>Reused</th>\n      <th>Legs</th>\n      <th>LandingPad</th>\n      <th>Block</th>\n      <th>ReusedCount</th>\n      <th>Serial</th>\n      <th>Longitude</th>\n      <th>Latitude</th>\n    </tr>\n  </thead>\n  <tbody>\n    <tr>\n      <th>4</th>\n      <td>1</td>\n      <td>2010-06-04</td>\n      <td>Falcon 9</td>\n      <td>6123.547647</td>\n      <td>LEO</td>\n      <td>CCSFS SLC 40</td>\n      <td>None None</td>\n      <td>1</td>\n      <td>False</td>\n      <td>False</td>\n      <td>False</td>\n      <td>None</td>\n      <td>1.0</td>\n      <td>0</td>\n      <td>B0003</td>\n      <td>-80.577366</td>\n      <td>28.561857</td>\n    </tr>\n    <tr>\n      <th>5</th>\n      <td>2</td>\n      <td>2012-05-22</td>\n      <td>Falcon 9</td>\n      <td>525.000000</td>\n      <td>LEO</td>\n      <td>CCSFS SLC 40</td>\n      <td>None None</td>\n      <td>1</td>\n      <td>False</td>\n      <td>False</td>\n      <td>False</td>\n      <td>None</td>\n      <td>1.0</td>\n      <td>0</td>\n      <td>B0005</td>\n      <td>-80.577366</td>\n      <td>28.561857</td>\n    </tr>\n    <tr>\n      <th>6</th>\n      <td>3</td>\n      <td>2013-03-01</td>\n      <td>Falcon 9</td>\n      <td>677.000000</td>\n      <td>ISS</td>\n      <td>CCSFS SLC 40</td>\n      <td>None None</td>\n      <td>1</td>\n      <td>False</td>\n      <td>False</td>\n      <td>False</td>\n      <td>None</td>\n      <td>1.0</td>\n      <td>0</td>\n      <td>B0007</td>\n      <td>-80.577366</td>\n      <td>28.561857</td>\n    </tr>\n    <tr>\n      <th>7</th>\n      <td>4</td>\n      <td>2013-09-29</td>\n      <td>Falcon 9</td>\n      <td>500.000000</td>\n      <td>PO</td>\n      <td>VAFB SLC 4E</td>\n      <td>False Ocean</td>\n      <td>1</td>\n      <td>False</td>\n      <td>False</td>\n      <td>False</td>\n      <td>None</td>\n      <td>1.0</td>\n      <td>0</td>\n      <td>B1003</td>\n      <td>-120.610829</td>\n      <td>34.632093</td>\n    </tr>\n    <tr>\n      <th>8</th>\n      <td>5</td>\n      <td>2013-12-03</td>\n      <td>Falcon 9</td>\n      <td>3170.000000</td>\n      <td>GTO</td>\n      <td>CCSFS SLC 40</td>\n      <td>None None</td>\n      <td>1</td>\n      <td>False</td>\n      <td>False</td>\n      <td>False</td>\n      <td>None</td>\n      <td>1.0</td>\n      <td>0</td>\n      <td>B1004</td>\n      <td>-80.577366</td>\n      <td>28.561857</td>\n    </tr>\n  </tbody>\n</table>\n</div>",
                        "text/plain": "   FlightNumber        Date BoosterVersion  PayloadMass Orbit    LaunchSite  \\\n4             1  2010-06-04       Falcon 9  6123.547647   LEO  CCSFS SLC 40   \n5             2  2012-05-22       Falcon 9   525.000000   LEO  CCSFS SLC 40   \n6             3  2013-03-01       Falcon 9   677.000000   ISS  CCSFS SLC 40   \n7             4  2013-09-29       Falcon 9   500.000000    PO   VAFB SLC 4E   \n8             5  2013-12-03       Falcon 9  3170.000000   GTO  CCSFS SLC 40   \n\n       Outcome  Flights  GridFins  Reused   Legs LandingPad  Block  \\\n4    None None        1     False   False  False       None    1.0   \n5    None None        1     False   False  False       None    1.0   \n6    None None        1     False   False  False       None    1.0   \n7  False Ocean        1     False   False  False       None    1.0   \n8    None None        1     False   False  False       None    1.0   \n\n   ReusedCount Serial   Longitude   Latitude  \n4            0  B0003  -80.577366  28.561857  \n5            0  B0005  -80.577366  28.561857  \n6            0  B0007  -80.577366  28.561857  \n7            0  B1003 -120.610829  34.632093  \n8            0  B1004  -80.577366  28.561857  "
                    },
                    "execution_count": 55,
                    "metadata": {},
                    "output_type": "execute_result"
                }
            ],
            "source": "# Calculate the mean value of PayloadMass column\n\nmean = data_falcon9[\"PayloadMass\"].mean()\nprint(mean)\n\n# Replace the np.nan values with its mean value\n\ndata_falcon9['PayloadMass'] = data_falcon9['PayloadMass'].replace(np.nan, mean)\ndata_falcon9.head()"
        },
        {
            "cell_type": "markdown",
            "metadata": {},
            "source": "You should see the number of missing values of the <code>PayLoadMass</code> change to zero.\n"
        },
        {
            "cell_type": "markdown",
            "metadata": {},
            "source": "Now we should have no missing values in our dataset except for in <code>LandingPad</code>.\n"
        },
        {
            "cell_type": "markdown",
            "metadata": {},
            "source": "We can now export it to a <b>CSV</b> for the next section,but to make the answers consistent, in the next lab we will provide data in a pre-selected date range. \n"
        },
        {
            "cell_type": "markdown",
            "metadata": {},
            "source": "<code>data_falcon9.to_csv('dataset_part_1.csv', index=False)</code>\n"
        },
        {
            "cell_type": "code",
            "execution_count": 57,
            "metadata": {},
            "outputs": [
                {
                    "data": {
                        "text/html": "<a download=\"/home/wsuser/work/spacex_web_scraped.csv\" href=\"data:text/csv;base64,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\" target=\"_blank\">Download CSV file</a>",
                        "text/plain": "<IPython.core.display.HTML object>"
                    },
                    "execution_count": 57,
                    "metadata": {},
                    "output_type": "execute_result"
                }
            ],
            "source": "data_falcon9.to_csv('dataset_part_1.csv', index=False)\n\nfrom IPython.display import HTML\nimport base64,io\n\ndef create_download_link( df, title = \"Download CSV file\", filename = \"/home/wsuser/work/spacex_web_scraped.csv\"): \n csv = data_falcon9.to_csv()\n b64 = base64.b64encode(csv.encode())\n payload = b64.decode()\n html = '<a download=\"{filename}\" href=\"data:text/csv;base64,{payload}\" target=\"_blank\">{title}</a>'\n html = html.format(payload=payload,title=title,filename=filename)\n return HTML(html)\n\ncreate_download_link(data_falcon9)"
        },
        {
            "cell_type": "markdown",
            "metadata": {},
            "source": "## Authors\n"
        },
        {
            "cell_type": "markdown",
            "metadata": {},
            "source": "<a href=\"https://www.linkedin.com/in/joseph-s-50398b136/?utm_medium=Exinfluencer&utm_source=Exinfluencer&utm_content=000026UJ&utm_term=10006555&utm_id=NA-SkillsNetwork-Channel-SkillsNetworkCoursesIBMDS0321ENSkillsNetwork865-2022-01-01\">Joseph Santarcangelo</a> has a PhD in Electrical Engineering, his research focused on using machine learning, signal processing, and computer vision to determine how videos impact human cognition. Joseph has been working for IBM since he completed his PhD. \n"
        },
        {
            "cell_type": "markdown",
            "metadata": {},
            "source": "## Change Log\n"
        },
        {
            "cell_type": "markdown",
            "metadata": {},
            "source": "|Date (YYYY-MM-DD)|Version|Changed By|Change Description|\n|-|-|-|-|\n|2020-09-20|1.1|Joseph|get result each time you run|\n|2020-09-20|1.1|Azim |Created Part 1 Lab using SpaceX API|\n|2020-09-20|1.0|Joseph |Modified Multiple Areas|\n"
        },
        {
            "cell_type": "markdown",
            "metadata": {},
            "source": "Copyright \u00a9 2021 IBM Corporation. All rights reserved.\n"
        }
    ],
    "metadata": {
        "kernelspec": {
            "display_name": "Python 3.10",
            "language": "python",
            "name": "python3"
        },
        "language_info": {
            "codemirror_mode": {
                "name": "ipython",
                "version": 3
            },
            "file_extension": ".py",
            "mimetype": "text/x-python",
            "name": "python",
            "nbconvert_exporter": "python",
            "pygments_lexer": "ipython3",
            "version": "3.10.9"
        }
    },
    "nbformat": 4,
    "nbformat_minor": 4
}